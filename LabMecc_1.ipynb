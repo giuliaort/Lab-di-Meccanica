{
 "cells": [
  {
   "cell_type": "code",
   "execution_count": 16,
   "id": "0cacf848",
   "metadata": {},
   "outputs": [],
   "source": [
    "import numpy as np\n",
    "import pandas as pd\n",
    "import matplotlib.pyplot as plt"
   ]
  },
  {
   "cell_type": "code",
   "execution_count": 17,
   "id": "da88fb25",
   "metadata": {},
   "outputs": [],
   "source": [
    "# funzioni per le incertezze\n",
    "\n",
    "def sigma_B(x):\n",
    "    return x/np.sqrt(12)\n",
    "\n",
    "def sigma_A(x):\n",
    "    return np.std(x, ddof=1)/np.sqrt(x.size)\n",
    "\n",
    "def sigma_tot(s_a, s_b):\n",
    "    return np.sqrt(s_a**2 + s_b**2)"
   ]
  },
  {
   "cell_type": "code",
   "execution_count": 18,
   "id": "e6f559f8",
   "metadata": {},
   "outputs": [],
   "source": [
    "# densità cilindro\n",
    "def rho_cilindro(m, h, d):\n",
    "    return m/(np.pi*(d**2)*h/4)\n",
    "\n",
    "# densità parallelepipedo\n",
    "def rho_parallelepipedo(m, h, a, b):\n",
    "    return m/(h*a*b)\n",
    "\n",
    "# prop. incertezze densità cilindro\n",
    "def prop_cilindro(m, h, d, s_m, s_h, s_d):\n",
    "    return (4*m/(np.pi*d**2*h))*np.sqrt(s_m**2/m**2 + s_h**2/h**2 + 4*s_d**2/d**2)\n",
    "\n",
    "# prop. incertezze densità parallelepipedo\n",
    "def prop_parallelepipedo(m, h, a, b, s_m, s_h, s_a, s_b):\n",
    "    return (m/(a*b*h))*np.sqrt(s_m**2/m**2 + s_a**2/a**2 + s_b**2/b**2 + s_h**2/h**2)"
   ]
  },
  {
   "cell_type": "code",
   "execution_count": 19,
   "id": "cf987721",
   "metadata": {},
   "outputs": [],
   "source": [
    "oss = np.arange(1, 31)"
   ]
  },
  {
   "cell_type": "markdown",
   "id": "e7599d73",
   "metadata": {},
   "source": [
    "## Strumenti"
   ]
  },
  {
   "cell_type": "code",
   "execution_count": null,
   "id": "b0914bcf",
   "metadata": {},
   "outputs": [],
   "source": [
    "ris_nonio = \n",
    "ris_palmer = \n",
    "ris_bilancia = \n",
    "ris_c_graduato = "
   ]
  },
  {
   "cell_type": "markdown",
   "id": "c66f3f25",
   "metadata": {},
   "source": [
    "# Misura della densità di un singolo campione A"
   ]
  },
  {
   "cell_type": "markdown",
   "id": "ec13179a",
   "metadata": {},
   "source": [
    "## Altezza"
   ]
  },
  {
   "cell_type": "code",
   "execution_count": 22,
   "id": "455e3d15",
   "metadata": {},
   "outputs": [],
   "source": [
    "h_nonio = np.array([])\n",
    "h_palmer = np.array([])"
   ]
  },
  {
   "cell_type": "code",
   "execution_count": 27,
   "id": "1ae8c9b1",
   "metadata": {},
   "outputs": [
    {
     "name": "stdout",
     "output_type": "stream",
     "text": [
      "std h nonio: nan\n",
      "std h palmer: nan\n"
     ]
    }
   ],
   "source": [
    "std_h_nonio = np.std(h_nonio, ddof=1)\n",
    "std_h_palmer = np.std(h_palmer, ddof=1)\n",
    "print(\"std h nonio: \" + str(std_h_nonio))\n",
    "print(\"std h palmer: \" + str(std_h_palmer))"
   ]
  },
  {
   "cell_type": "code",
   "execution_count": 28,
   "id": "7ecb1a33",
   "metadata": {},
   "outputs": [
    {
     "name": "stdout",
     "output_type": "stream",
     "text": [
      "media h nonio: nan\n",
      "media h palmer: nan\n"
     ]
    }
   ],
   "source": [
    "media_h_nonio = np.mean(h_nonio)\n",
    "media_h_palmer = np.mean(h_palmer)\n",
    "print(\"media h nonio: \" + str(std_h_nonio))\n",
    "print(\"media h palmer: \" + str(std_h_palmer))"
   ]
  },
  {
   "cell_type": "code",
   "execution_count": null,
   "id": "e8af57de",
   "metadata": {},
   "outputs": [],
   "source": [
    "# istogramma nonio\n",
    "plt.hist(h_nonio, bins=10, color=\"C0\")\n",
    "xline = np.linspace(np.min(h_nonio), np.max(h_nonio), 1000)\n",
    "yline = ((1./np.sqrt(2.*np.pi*std_h_nonio**2))*np.exp(-(xline-media_h_nonio)**2/(2*std_h_nonio**2)))\n",
    "plt.plot(xline, yline, color = 'C1', label = 'Gaussiana')\n",
    "plt.show()"
   ]
  },
  {
   "cell_type": "code",
   "execution_count": null,
   "id": "6dde22a8",
   "metadata": {},
   "outputs": [],
   "source": [
    "# istogramma Palmer\n",
    "plt.hist(h_palmer, bins=10, color=\"C0\")\n",
    "xline = np.linspace(np.min(h_palmer), np.max(h_palmer), 1000)\n",
    "yline = ((1./np.sqrt(2.*np.pi*std_h_palmer**2))*np.exp(-(xline-media_h_palmer)**2/(2*std_h_palmer**2)))\n",
    "plt.plot(xline, yline, color = 'C1', label = 'Gaussiana')\n",
    "plt.show()"
   ]
  },
  {
   "cell_type": "code",
   "execution_count": null,
   "id": "47d2b21e",
   "metadata": {},
   "outputs": [],
   "source": [
    "# tabella delle altezze nonio vs palmer\n",
    "df_A = pd.DataFrame({\"N. misura\": oss, \"h nonio\": h_nonio, \"h palmer\": h_palmer})"
   ]
  },
  {
   "cell_type": "code",
   "execution_count": null,
   "id": "73afe953",
   "metadata": {},
   "outputs": [],
   "source": [
    "# migliore stima con incertezza\n",
    "s_tot_h_nonio = sigma_tot(sigma_A(h_nonio), sigma_B(ris_nonio))\n",
    "s_tot_h_palmer = sigma_tot(sigma_A(h_palmer), sigma_B(ris_palmer))\n",
    "\n",
    "print(\"Migliore stima di h nonio: \" + str(media_h_nonio) + \"+-\" + str(s_tot_h_nonio))\n",
    "print(\"Migliore stima di h Palmer: \" + str(media_h_palmer) + \"+-\" + str(s_tot_h_palmer))"
   ]
  },
  {
   "cell_type": "markdown",
   "id": "81ec414e",
   "metadata": {},
   "source": [
    "## Diametro"
   ]
  },
  {
   "cell_type": "code",
   "execution_count": null,
   "id": "d8883844",
   "metadata": {},
   "outputs": [],
   "source": [
    "d_nonio = np.array([])\n",
    "d_palmer = np.array([])"
   ]
  },
  {
   "cell_type": "code",
   "execution_count": null,
   "id": "be4423c6",
   "metadata": {},
   "outputs": [],
   "source": [
    "media_d = np.mean(d_palmer)\n",
    "std_d = np.std(d_palmer, ddof=1)\n",
    "\n",
    "print(\"media diametro: \" + str(media_d))\n",
    "print(\"std diametro: \" + str(std_d))"
   ]
  },
  {
   "cell_type": "code",
   "execution_count": null,
   "id": "dce8475b",
   "metadata": {},
   "outputs": [],
   "source": [
    "s_tot_d = sigma_tot(sigma_A(d_palmer), sigma_B(ris_palmer))"
   ]
  },
  {
   "cell_type": "code",
   "execution_count": null,
   "id": "f0534ba6",
   "metadata": {},
   "outputs": [],
   "source": [
    "print(\"Migliore stima del diametro: \" + str(media_d) + \"+-\" + str(s_tot_d))"
   ]
  },
  {
   "cell_type": "markdown",
   "id": "53aa468b",
   "metadata": {},
   "source": [
    "## Massa"
   ]
  },
  {
   "cell_type": "code",
   "execution_count": null,
   "id": "6ec3e54b",
   "metadata": {},
   "outputs": [],
   "source": [
    "m_A = np.array([])"
   ]
  },
  {
   "cell_type": "code",
   "execution_count": null,
   "id": "bc1d1634",
   "metadata": {},
   "outputs": [],
   "source": [
    "media_m_A = np.mean(m_A)\n",
    "std_m_A = np.std(m_A, ddof=1)\n",
    "\n",
    "print(\"media massa: \" + str(media_m_A))\n",
    "print(\"std massa: \" + str(std_m_A))"
   ]
  },
  {
   "cell_type": "code",
   "execution_count": null,
   "id": "09bcb776",
   "metadata": {},
   "outputs": [],
   "source": [
    "s_tot_m_A = sigma_tot(sigma_A(m_A), sigma_B(ris_bilancia))"
   ]
  },
  {
   "cell_type": "code",
   "execution_count": null,
   "id": "350997ef",
   "metadata": {},
   "outputs": [],
   "source": [
    "print(\"Migliore stima della massa: \" + str(media_m_A) + \"+-\" + str(s_tot_m_A))"
   ]
  },
  {
   "cell_type": "markdown",
   "id": "f41cd75a",
   "metadata": {},
   "source": [
    "## Densità"
   ]
  },
  {
   "cell_type": "code",
   "execution_count": 20,
   "id": "23bbd4c3",
   "metadata": {},
   "outputs": [
    {
     "ename": "NameError",
     "evalue": "name 'h_palmer' is not defined",
     "output_type": "error",
     "traceback": [
      "\u001b[1;31m---------------------------------------------------------------------------\u001b[0m",
      "\u001b[1;31mNameError\u001b[0m                                 Traceback (most recent call last)",
      "\u001b[1;32m<ipython-input-20-a5929808298b>\u001b[0m in \u001b[0;36m<module>\u001b[1;34m\u001b[0m\n\u001b[0;32m      1\u001b[0m \u001b[1;31m# densità in g/cm^3\u001b[0m\u001b[1;33m\u001b[0m\u001b[1;33m\u001b[0m\u001b[1;33m\u001b[0m\u001b[0m\n\u001b[1;32m----> 2\u001b[1;33m \u001b[0mh_palmer\u001b[0m \u001b[1;33m=\u001b[0m \u001b[0mh_palmer\u001b[0m\u001b[1;33m*\u001b[0m\u001b[1;36m10\u001b[0m\u001b[1;33m**\u001b[0m\u001b[1;33m(\u001b[0m\u001b[1;33m-\u001b[0m\u001b[1;36m3\u001b[0m\u001b[1;33m)\u001b[0m\u001b[1;33m\u001b[0m\u001b[1;33m\u001b[0m\u001b[0m\n\u001b[0m\u001b[0;32m      3\u001b[0m \u001b[0md_palmer\u001b[0m \u001b[1;33m=\u001b[0m \u001b[0md_palmer\u001b[0m\u001b[1;33m*\u001b[0m\u001b[1;36m10\u001b[0m\u001b[1;33m**\u001b[0m\u001b[1;33m(\u001b[0m\u001b[1;33m-\u001b[0m\u001b[1;36m3\u001b[0m\u001b[1;33m)\u001b[0m\u001b[1;33m\u001b[0m\u001b[1;33m\u001b[0m\u001b[0m\n\u001b[0;32m      4\u001b[0m \u001b[1;33m\u001b[0m\u001b[0m\n\u001b[0;32m      5\u001b[0m \u001b[0mrho_A\u001b[0m \u001b[1;33m=\u001b[0m \u001b[0mrho_cilindro\u001b[0m\u001b[1;33m(\u001b[0m\u001b[0mm_A\u001b[0m\u001b[1;33m,\u001b[0m \u001b[0mh_palmer\u001b[0m\u001b[1;33m,\u001b[0m \u001b[0md_palmer\u001b[0m\u001b[1;33m)\u001b[0m\u001b[1;33m\u001b[0m\u001b[1;33m\u001b[0m\u001b[0m\n",
      "\u001b[1;31mNameError\u001b[0m: name 'h_palmer' is not defined"
     ]
    }
   ],
   "source": [
    "# densità in g/cm^3\n",
    "h_palmer = h_palmer*10**(-3)\n",
    "d_palmer = d_palmer*10**(-3)\n",
    "\n",
    "rho_A = rho_cilindro(m_A, h_palmer, d_palmer)"
   ]
  },
  {
   "cell_type": "code",
   "execution_count": null,
   "id": "793ddc47",
   "metadata": {},
   "outputs": [],
   "source": [
    "media_rho_A = np.mean(rho_A)\n",
    "std_rho_A = np.std(m_A, ddof=1)\n",
    "\n",
    "print(\"media densità: \" + str(media_rho_A))\n",
    "print(\"std densità: \" + str(std_rho_A))"
   ]
  },
  {
   "cell_type": "code",
   "execution_count": null,
   "id": "a979ff48",
   "metadata": {},
   "outputs": [],
   "source": [
    "s_rho_A = prop_cilindro(m_A, h_palmer, d_palmer, s_tot_m_A, s_tot_h_palmer, s_tot_d)\n",
    "\n",
    "print(\"Migliore stima della densità: \" + str(media_rho_A) + \"+-\" + str(s_rho_A))"
   ]
  },
  {
   "cell_type": "code",
   "execution_count": null,
   "id": "8de6ed74",
   "metadata": {},
   "outputs": [],
   "source": [
    "# tabella con tutte le misure\n",
    "df_A = pd.DataFrame({\"N. misura\": oss, \"Altezza (mm)\": h_palmer, \"Diametro (mm)\": d_palmer, \"Massa (g)\": m_A, \"Densità (g/cm**3)\": rho_A}) "
   ]
  },
  {
   "cell_type": "markdown",
   "id": "14d392d4",
   "metadata": {},
   "source": [
    "# Misura della densità dei campioni A"
   ]
  },
  {
   "cell_type": "code",
   "execution_count": null,
   "id": "e371fcfb",
   "metadata": {},
   "outputs": [],
   "source": [
    "h = np.array()\n",
    "d = np.array()\n",
    "m = np.array()"
   ]
  },
  {
   "cell_type": "code",
   "execution_count": null,
   "id": "0a55a14e",
   "metadata": {},
   "outputs": [],
   "source": [
    "s_h = s_tot_h_palmer\n",
    "s_d = s_tot_d\n",
    "s_m = s_tot_m_A"
   ]
  },
  {
   "cell_type": "code",
   "execution_count": null,
   "id": "4cd9ca54",
   "metadata": {},
   "outputs": [],
   "source": [
    "rho = rho_cilindro(m, h, d)"
   ]
  },
  {
   "cell_type": "code",
   "execution_count": null,
   "id": "a18c0856",
   "metadata": {},
   "outputs": [],
   "source": [
    "media_rho = np.mean(rho)\n",
    "s_rho = prop_cilindro(m, h, d, s_m, s_h, s_d)\n",
    "\n",
    "print(\"Migliore stima della densità: \" + str(media_rho) + \"+-\" + str(s_rho))"
   ]
  },
  {
   "cell_type": "code",
   "execution_count": null,
   "id": "35735fae",
   "metadata": {},
   "outputs": [],
   "source": [
    "std_rho = np.std(rho, ddof=1)"
   ]
  },
  {
   "cell_type": "code",
   "execution_count": null,
   "id": "cf7e53b1",
   "metadata": {},
   "outputs": [],
   "source": [
    "plt.hist(rho, bins=10, color=\"C0\")\n",
    "xline = np.linspace(np.min(rho), np.max(rho), 1000)\n",
    "yline = ((1./np.sqrt(2.*np.pi*std_rho**2))*np.exp(-(xline-media_rho)**2/(2*std_rho**2)))\n",
    "plt.plot(xline, yline, color = 'C1', label = 'Gaussiana')\n",
    "plt.show()"
   ]
  },
  {
   "cell_type": "code",
   "execution_count": null,
   "id": "81ab76e4",
   "metadata": {},
   "outputs": [],
   "source": [
    "# tabella con tutte le misure\n",
    "df_A = pd.DataFrame({\"N. campione\": oss, \"Altezza (mm)\": h, \"Diametro (mm)\": d, \"Massa (g)\": m, \"Densità (g/cm**3)\": rho + \"$\\pm$\" + s_rho}) "
   ]
  },
  {
   "cell_type": "markdown",
   "id": "8563db76",
   "metadata": {},
   "source": [
    "# Misura della densità del campione B"
   ]
  },
  {
   "cell_type": "code",
   "execution_count": null,
   "id": "9af7b8df",
   "metadata": {},
   "outputs": [],
   "source": [
    "h = np.array()\n",
    "a = np.array()\n",
    "b = np.array()\n",
    "m = np.array()"
   ]
  },
  {
   "cell_type": "code",
   "execution_count": null,
   "id": "1c667ff4",
   "metadata": {},
   "outputs": [],
   "source": [
    "s_h = s_tot_h_palmer\n",
    "s_a = sigma_B(ris_palmer)\n",
    "s_b = s_a\n",
    "s_m = s_tot_m_A"
   ]
  },
  {
   "cell_type": "code",
   "execution_count": null,
   "id": "7bac2c09",
   "metadata": {},
   "outputs": [],
   "source": [
    "rho = rho_parallelepipedo(m, h, a, b)"
   ]
  },
  {
   "cell_type": "code",
   "execution_count": null,
   "id": "faf4512c",
   "metadata": {},
   "outputs": [],
   "source": [
    "media_rho = np.mean(rho)\n",
    "s_rho = prop_parallelepipedo(m, h, a, b, s_m, s_h, s_a, s_b)\n",
    "\n",
    "print(\"Migliore stima della densità: \" + str(media_rho) + \"+-\" + str(s_rho))"
   ]
  },
  {
   "cell_type": "markdown",
   "id": "fd418475",
   "metadata": {},
   "source": [
    "# Misura della densità del campione C"
   ]
  },
  {
   "cell_type": "code",
   "execution_count": null,
   "id": "5779009e",
   "metadata": {},
   "outputs": [],
   "source": [
    "V = np.array() # volumi misurati con il cilindro graduato\n",
    "m = np.array()"
   ]
  },
  {
   "cell_type": "code",
   "execution_count": null,
   "id": "8f2c31a9",
   "metadata": {},
   "outputs": [],
   "source": [
    "rho = m/V"
   ]
  },
  {
   "cell_type": "code",
   "execution_count": null,
   "id": "443f0c79",
   "metadata": {},
   "outputs": [],
   "source": [
    "s_m = s_tot_m_A\n",
    "s_V = sigma_tot(sigma_A(V), sigma_B(ris_c_graduato))"
   ]
  },
  {
   "cell_type": "code",
   "execution_count": null,
   "id": "c828cb7e",
   "metadata": {},
   "outputs": [],
   "source": [
    "media_rho = np.mean(rho)\n",
    "s_rho = rho*np.sqrt(s_m**2/m**2 + s_V**2/V**2)\n",
    "\n",
    "print(\"Migliore stima della densità: \" + str(media_rho) + \"+-\" + str(s_rho))"
   ]
  }
 ],
 "metadata": {
  "kernelspec": {
   "display_name": "Python 3",
   "language": "python",
   "name": "python3"
  },
  "language_info": {
   "codemirror_mode": {
    "name": "ipython",
    "version": 3
   },
   "file_extension": ".py",
   "mimetype": "text/x-python",
   "name": "python",
   "nbconvert_exporter": "python",
   "pygments_lexer": "ipython3",
   "version": "3.8.8"
  }
 },
 "nbformat": 4,
 "nbformat_minor": 5
}
